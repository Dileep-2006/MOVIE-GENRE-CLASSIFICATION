{
  "nbformat": 4,
  "nbformat_minor": 0,
  "metadata": {
    "colab": {
      "provenance": [],
      "authorship_tag": "ABX9TyPBdMLdIyWviM6+kZtGJotN",
      "include_colab_link": true
    },
    "kernelspec": {
      "name": "python3",
      "display_name": "Python 3"
    },
    "language_info": {
      "name": "python"
    }
  },
  "cells": [
    {
      "cell_type": "markdown",
      "metadata": {
        "id": "view-in-github",
        "colab_type": "text"
      },
      "source": [
        "<a href=\"https://colab.research.google.com/github/Dileep-2006/MOVIE-GENRE-CLASSIFICATION/blob/main/Untitled1.ipynb\" target=\"_parent\"><img src=\"https://colab.research.google.com/assets/colab-badge.svg\" alt=\"Open In Colab\"/></a>"
      ]
    },
    {
      "cell_type": "code",
      "execution_count": 1,
      "metadata": {
        "colab": {
          "base_uri": "https://localhost:8080/"
        },
        "id": "Mn8ttPyA4lvJ",
        "outputId": "92d1bd64-9de0-4faa-bac7-5d620eb61f4e"
      },
      "outputs": [
        {
          "output_type": "stream",
          "name": "stdout",
          "text": [
            "Horror\n"
          ]
        }
      ],
      "source": [
        "import pandas as pd\n",
        "import joblib\n",
        "from sklearn.feature_extraction.text import TfidfVectorizer\n",
        "from sklearn.linear_model import LogisticRegression\n",
        "from sklearn.pipeline import Pipeline\n",
        "\n",
        "# Sample dataset (title + description + genres)\n",
        "data = [\n",
        "    (\"The Dark Knight\", \"A vigilante fights crime in Gotham City.\", \"Action\"),\n",
        "    (\"Finding Nemo\", \"A clownfish searches for his lost son in the ocean.\", \"Animation\"),\n",
        "    (\"Titanic\", \"A romance set on the doomed ship Titanic.\", \"Romance\"),\n",
        "    (\"The Conjuring\", \"Paranormal investigators help a haunted family.\", \"Horror\"),\n",
        "    (\"The Matrix\", \"A hacker discovers the truth about reality.\", \"Sci-Fi\")\n",
        "]\n",
        "\n",
        "df = pd.DataFrame(data, columns=[\"title\", \"description\", \"genre\"])\n",
        "\n",
        "# Text processing and classification pipeline\n",
        "model = Pipeline([\n",
        "    (\"tfidf\", TfidfVectorizer()),\n",
        "    (\"clf\", LogisticRegression())\n",
        "])\n",
        "\n",
        "# Train the model\n",
        "X = df[\"description\"]\n",
        "y = df[\"genre\"]\n",
        "model.fit(X, y)\n",
        "\n",
        "# Save model\n",
        "joblib.dump(model, \"movie_genre_classifier.pkl\")\n",
        "\n",
        "# Predict function\n",
        "def predict_genre(description):\n",
        "    model = joblib.load(\"movie_genre_classifier.pkl\")\n",
        "    return model.predict([description])[0]\n",
        "\n",
        "# Example usage\n",
        "print(predict_genre(\"A young wizard attends a magical school.\"))\n"
      ]
    }
  ]
}